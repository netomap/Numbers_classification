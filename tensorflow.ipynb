{
  "nbformat": 4,
  "nbformat_minor": 0,
  "metadata": {
    "kernelspec": {
      "display_name": "Python 3",
      "language": "python",
      "name": "python3"
    },
    "language_info": {
      "codemirror_mode": {
        "name": "ipython",
        "version": 3
      },
      "file_extension": ".py",
      "mimetype": "text/x-python",
      "name": "python",
      "nbconvert_exporter": "python",
      "pygments_lexer": "ipython3",
      "version": "3.7.7"
    },
    "colab": {
      "name": "tensorflow.ipynb",
      "provenance": [],
      "include_colab_link": true
    },
    "accelerator": "GPU"
  },
  "cells": [
    {
      "cell_type": "markdown",
      "metadata": {
        "id": "view-in-github",
        "colab_type": "text"
      },
      "source": [
        "<a href=\"https://colab.research.google.com/github/netomap/Numbers_classification/blob/master/tensorflow.ipynb\" target=\"_parent\"><img src=\"https://colab.research.google.com/assets/colab-badge.svg\" alt=\"Open In Colab\"/></a>"
      ]
    },
    {
      "cell_type": "code",
      "metadata": {
        "id": "zAuuRj8x950t",
        "colab_type": "code",
        "colab": {}
      },
      "source": [
        "import tensorflow as tf\n",
        "from tensorflow import keras\n",
        "import matplotlib.pyplot as plt\n",
        "import numpy as np\n",
        "import pathlib\n",
        "from PIL import Image"
      ],
      "execution_count": 1,
      "outputs": []
    },
    {
      "cell_type": "code",
      "metadata": {
        "tags": [],
        "id": "4ckmwtuR9500",
        "colab_type": "code",
        "colab": {
          "base_uri": "https://localhost:8080/",
          "height": 34
        },
        "outputId": "6d7eb60c-4812-41b5-ea72-b2fbdacbd11f"
      },
      "source": [
        "print ('versão do tensor: {}'.format(tf.__version__))"
      ],
      "execution_count": 2,
      "outputs": [
        {
          "output_type": "stream",
          "text": [
            "versão do tensor: 2.2.0\n"
          ],
          "name": "stdout"
        }
      ]
    },
    {
      "cell_type": "code",
      "metadata": {
        "id": "RbFkEP2GBS6-",
        "colab_type": "code",
        "colab": {}
      },
      "source": [
        "from google.colab import drive\n",
        "drive.mount('/content/drive')"
      ],
      "execution_count": null,
      "outputs": []
    },
    {
      "cell_type": "code",
      "metadata": {
        "tags": [],
        "id": "8YDpa-7E9506",
        "colab_type": "code",
        "colab": {
          "base_uri": "https://localhost:8080/",
          "height": 51
        },
        "outputId": "b02b3935-44f7-4b2f-cdba-887ddb327fc7"
      },
      "source": [
        "#diretorio = 'C:/Users/manuel/Documents/GitHub/Numbers_classification/numbers'\n",
        "diretorio = '/content/drive/My Drive/Colab Notebooks/Number_classifications/numbers2'\n",
        "data_dir = pathlib.Path(diretorio)\n",
        "\n",
        "lista = list(data_dir.glob('*/*.png'))\n",
        "print (\"Total de números: {}\".format(len(lista)))\n",
        "\n",
        "pastas = list(data_dir.glob('*'))\n",
        "class_names = np.array([item.name for item in pastas if item.name != 'digitos.pde'])\n",
        "print (class_names)"
      ],
      "execution_count": 19,
      "outputs": [
        {
          "output_type": "stream",
          "text": [
            "Total de números: 800\n",
            "['6' '1' '2' '8' '7' '4' '5' '9' '3' '0']\n"
          ],
          "name": "stdout"
        }
      ]
    },
    {
      "cell_type": "code",
      "metadata": {
        "tags": [],
        "id": "5argB6rL951A",
        "colab_type": "code",
        "colab": {
          "base_uri": "https://localhost:8080/",
          "height": 51
        },
        "outputId": "bfeddcaf-7288-46e0-c375-500c8f4c1fd3"
      },
      "source": [
        "image_generator = keras.preprocessing.image.ImageDataGenerator(rescale = 1./255, validation_split=0.1)\n",
        "\n",
        "tamanho = (50, 50)\n",
        "\n",
        "train_data = image_generator.flow_from_directory(\n",
        "    directory = diretorio,\n",
        "    target_size = tamanho,\n",
        "    batch_size = 40,\n",
        "    shuffle = True,\n",
        "    classes = list(class_names),\n",
        "    subset = 'training'\n",
        ")\n",
        "\n",
        "validation_data = image_generator.flow_from_directory(\n",
        "    directory = diretorio,\n",
        "    target_size = tamanho,\n",
        "    shuffle = True,\n",
        "    classes = list(class_names),\n",
        "    subset = 'validation'\n",
        ")"
      ],
      "execution_count": 34,
      "outputs": [
        {
          "output_type": "stream",
          "text": [
            "Found 724 images belonging to 10 classes.\n",
            "Found 76 images belonging to 10 classes.\n"
          ],
          "name": "stdout"
        }
      ]
    },
    {
      "cell_type": "code",
      "metadata": {
        "tags": [],
        "id": "lQXo3M_o951E",
        "colab_type": "code",
        "colab": {}
      },
      "source": [
        "TRAIN_STEPS = train_data.n // train_data.batch_size\n",
        "VALIDATION_STEPS = validation_data.n // validation_data.batch_size"
      ],
      "execution_count": 35,
      "outputs": []
    },
    {
      "cell_type": "code",
      "metadata": {
        "id": "AlrVj7hh951J",
        "colab_type": "code",
        "colab": {
          "base_uri": "https://localhost:8080/",
          "height": 289
        },
        "outputId": "42f51969-de00-46be-adc0-350ccd79f423"
      },
      "source": [
        "# desenhando algumas imagens do treino\n",
        "plt.figure(figsize=(10,5))\n",
        "images_batch, labels_batch = next(train_data)\n",
        "for k in range(10):\n",
        "    plt.subplot(2, 5, k+1)\n",
        "    plt.imshow(images_batch[k])\n",
        "    plt.xticks([])\n",
        "    plt.yticks([])\n",
        "    plt.xlabel(np.argmax(labels_batch[k]))\n",
        "plt.show()"
      ],
      "execution_count": 23,
      "outputs": [
        {
          "output_type": "display_data",
          "data": {
            "image/png": "[encoded data removed]",
            "text/plain": [
              "<Figure size 720x360 with 10 Axes>"
            ]
          },
          "metadata": {
            "tags": []
          }
        }
      ]
    },
    {
      "cell_type": "code",
      "metadata": {
        "id": "DNisovPJ951O",
        "colab_type": "code",
        "colab": {
          "base_uri": "https://localhost:8080/",
          "height": 289
        },
        "outputId": "7026d264-dff2-44dc-e69f-8b6a4ee3f494"
      },
      "source": [
        "# desenhando algumas imagens da validação\n",
        "plt.figure(figsize=(10,5))\n",
        "images_batch, labels_batch = next(validation_data)\n",
        "for k in range(10):\n",
        "    plt.subplot(2, 5, k+1)\n",
        "    plt.imshow(images_batch[k])\n",
        "    plt.xticks([])\n",
        "    plt.yticks([])\n",
        "    plt.xlabel(np.argmax(labels_batch[k]))\n",
        "plt.show()"
      ],
      "execution_count": 14,
      "outputs": [
        {
          "output_type": "display_data",
          "data": {
            "image/png": "[encoded data removed]",
            "text/plain": [
              "<Figure size 720x360 with 10 Axes>"
            ]
          },
          "metadata": {
            "tags": []
          }
        }
      ]
    },
    {
      "cell_type": "code",
      "metadata": {
        "id": "KWOH2BUy951T",
        "colab_type": "code",
        "colab": {}
      },
      "source": [
        "model = keras.Sequential()\n",
        "\n",
        "model.add(keras.layers.Conv2D(filters = 64, kernel_size=7, activation='relu'))\n",
        "model.add(keras.layers.MaxPool2D(pool_size=7))\n",
        "model.add(keras.layers.Dropout(rate = 0.2))\n",
        "\n",
        "model.add(keras.layers.Flatten())\n",
        "\n",
        "model.add(keras.layers.Dense(units = 128, activation='relu'))\n",
        "\n",
        "model.add(keras.layers.Dense(units = 10, activation='softmax'))\n",
        "\n",
        "model.compile(optimizer='adam', loss='categorical_crossentropy', metrics=['accuracy'])\n",
        "\n",
        "parada_por_acuracia = keras.callbacks.EarlyStopping(monitor='val_accuracy', patience=2, verbose=1)"
      ],
      "execution_count": 43,
      "outputs": []
    },
    {
      "cell_type": "code",
      "metadata": {
        "tags": [],
        "id": "E5piIdVD951Y",
        "colab_type": "code",
        "colab": {
          "base_uri": "https://localhost:8080/",
          "height": 357
        },
        "outputId": "6828b989-76f6-40ce-978a-3c7a3b49bb93"
      },
      "source": [
        "model.fit_generator(\n",
        "    generator = train_data,\n",
        "    epochs = 20,\n",
        "    steps_per_epoch=TRAIN_STEPS,\n",
        "    validation_data=validation_data,\n",
        "    validation_steps = VALIDATION_STEPS,\n",
        "    callbacks = [parada_por_acuracia],\n",
        "    verbose=1\n",
        ")"
      ],
      "execution_count": 44,
      "outputs": [
        {
          "output_type": "stream",
          "text": [
            "Epoch 1/20\n",
            "18/18 [==============================] - 1s 56ms/step - loss: 2.2958 - accuracy: 0.1711 - val_loss: 2.1820 - val_accuracy: 0.2656\n",
            "Epoch 2/20\n",
            "18/18 [==============================] - 1s 52ms/step - loss: 1.9486 - accuracy: 0.3933 - val_loss: 1.6007 - val_accuracy: 0.5781\n",
            "Epoch 3/20\n",
            "18/18 [==============================] - 1s 52ms/step - loss: 1.1877 - accuracy: 0.6784 - val_loss: 0.9881 - val_accuracy: 0.6562\n",
            "Epoch 4/20\n",
            "18/18 [==============================] - 1s 53ms/step - loss: 0.5479 - accuracy: 0.8582 - val_loss: 0.3386 - val_accuracy: 0.9531\n",
            "Epoch 5/20\n",
            "18/18 [==============================] - 1s 53ms/step - loss: 0.2396 - accuracy: 0.9488 - val_loss: 0.1763 - val_accuracy: 0.9844\n",
            "Epoch 6/20\n",
            "18/18 [==============================] - 1s 54ms/step - loss: 0.1681 - accuracy: 0.9605 - val_loss: 0.1493 - val_accuracy: 0.9844\n",
            "Epoch 7/20\n",
            "18/18 [==============================] - 1s 53ms/step - loss: 0.1001 - accuracy: 0.9781 - val_loss: 0.0712 - val_accuracy: 1.0000\n",
            "Epoch 8/20\n",
            "18/18 [==============================] - 1s 54ms/step - loss: 0.0515 - accuracy: 0.9958 - val_loss: 0.0562 - val_accuracy: 1.0000\n",
            "Epoch 9/20\n",
            "18/18 [==============================] - 1s 54ms/step - loss: 0.0352 - accuracy: 0.9971 - val_loss: 0.0377 - val_accuracy: 1.0000\n",
            "Epoch 00009: early stopping\n"
          ],
          "name": "stdout"
        },
        {
          "output_type": "execute_result",
          "data": {
            "text/plain": [
              "<tensorflow.python.keras.callbacks.History at 0x7fba122007b8>"
            ]
          },
          "metadata": {
            "tags": []
          },
          "execution_count": 44
        }
      ]
    },
    {
      "cell_type": "code",
      "metadata": {
        "id": "gGkD81ir951d",
        "colab_type": "code",
        "colab": {
          "base_uri": "https://localhost:8080/",
          "height": 357
        },
        "outputId": "db358391-2bcb-4436-f2f4-7da4eb2d714b"
      },
      "source": [
        "model.summary()"
      ],
      "execution_count": 45,
      "outputs": [
        {
          "output_type": "stream",
          "text": [
            "Model: \"sequential_9\"\n",
            "_________________________________________________________________\n",
            "Layer (type)                 Output Shape              Param #   \n",
            "=================================================================\n",
            "conv2d_10 (Conv2D)           multiple                  9472      \n",
            "_________________________________________________________________\n",
            "max_pooling2d_10 (MaxPooling multiple                  0         \n",
            "_________________________________________________________________\n",
            "dropout_10 (Dropout)         multiple                  0         \n",
            "_________________________________________________________________\n",
            "flatten_9 (Flatten)          multiple                  0         \n",
            "_________________________________________________________________\n",
            "dense_18 (Dense)             multiple                  295040    \n",
            "_________________________________________________________________\n",
            "dense_19 (Dense)             multiple                  1290      \n",
            "=================================================================\n",
            "Total params: 305,802\n",
            "Trainable params: 305,802\n",
            "Non-trainable params: 0\n",
            "_________________________________________________________________\n"
          ],
          "name": "stdout"
        }
      ]
    },
    {
      "cell_type": "code",
      "metadata": {
        "id": "zlMiiM8aG3JN",
        "colab_type": "code",
        "colab": {}
      },
      "source": [
        "model.save('/content/drive/My Drive/Colab Notebooks/Number_classifications/numbers_model.h5')"
      ],
      "execution_count": 47,
      "outputs": []
    }
  ]
}